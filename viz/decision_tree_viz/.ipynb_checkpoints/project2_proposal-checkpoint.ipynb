{
 "cells": [
  {
   "cell_type": "markdown",
   "metadata": {},
   "source": [
    "# dtreeviz : Decision Tree Visualization\n",
    "    A python library for decision tree visualization and model interpretation.\n",
    "\n",
    "##  Introduction to Data Visualization in Decision Tree\n",
    "    Model interpretation and data visualization is very important but There are limited tools .\n",
    "    For Decision tree visualization, there are scikit-learn,dtreeviz .\n",
    "### Why use dtreeviz ?\n",
    "    1 We can see the distribution for each class at each node\n",
    "    2 We can see where is the decision boundary for each split\n",
    "    3 We can see the sample sie at each leaf as the size of the circle\n",
    "### compares to other similar technologies\n",
    "    Python  (other library)\n",
    "    R library\n",
    "    SPSS\n",
    "    SAS\n",
    "## dtreeviz in action\n",
    "### How to install \n",
    "    Record bugs during installation and operation\n",
    "### show what the best use-cases of the tool.\n",
    "#### Classification decision tree\n",
    "    show how dtreeviz works to plot classification decision tree\n",
    "#### regression tree\n",
    "    show how dtreeviz works to plot regression tree\n",
    "### compares to other similar technologies such as sklearn.tree.export_graphviz\n",
    "## conclusion\n",
    "    What we have learn from the dtreeviz and What problems have been solved abount dtreeviz \n",
    "\n",
    "\n"
   ]
  },
  {
   "cell_type": "markdown",
   "metadata": {
    "deletable": false,
    "editable": false
   },
   "source": [
    "**&copy; 2017-2019: Robert J. Brunner at the University of Illinois.**\n",
    "\n",
    "This notebook is released under the [Creative Commons license CC BY-NC-SA 4.0][ll]. Any reproduction, adaptation, distribution, dissemination or making available of this notebook for commercial use is not allowed unless authorized in writing by the copyright holder.\n",
    "\n",
    "[ll]: https://creativecommons.org/licenses/by-nc-sa/4.0/legalcode"
   ]
  }
 ],
 "metadata": {
  "hide_input": false,
  "kernelspec": {
   "display_name": "Python 3",
   "language": "python",
   "name": "python3"
  },
  "language_info": {
   "codemirror_mode": {
    "name": "ipython",
    "version": 3
   },
   "file_extension": ".py",
   "mimetype": "text/x-python",
   "name": "python",
   "nbconvert_exporter": "python",
   "pygments_lexer": "ipython3",
   "version": "3.8.5"
  },
  "toc": {
   "base_numbering": 1,
   "nav_menu": {},
   "number_sections": true,
   "sideBar": true,
   "skip_h1_title": false,
   "title_cell": "Table of Contents",
   "title_sidebar": "Contents",
   "toc_cell": false,
   "toc_position": {},
   "toc_section_display": true,
   "toc_window_display": false
  }
 },
 "nbformat": 4,
 "nbformat_minor": 4
}
